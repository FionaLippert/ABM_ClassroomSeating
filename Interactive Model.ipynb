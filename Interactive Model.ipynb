{
 "cells": [
  {
   "cell_type": "markdown",
   "metadata": {},
   "source": [
    "# An Agent Based Classroom Seating Model"
   ]
  },
  {
   "cell_type": "code",
   "execution_count": 1,
   "metadata": {},
   "outputs": [],
   "source": [
    "''' Set up this document and import libraries '''\n",
    "import numpy as np\n",
    "from matplotlib import pyplot as plt\n",
    "from matplotlib import rcParams\n",
    "%matplotlib inline\n",
    "rcParams['figure.figsize'] = (10, 5)\n",
    "\n",
    "from ipywidgets import widgets\n",
    "from IPython.display import display"
   ]
  },
  {
   "cell_type": "markdown",
   "metadata": {},
   "source": [
    "## Introduction\n",
    "\n"
   ]
  },
  {
   "cell_type": "code",
   "execution_count": null,
   "metadata": {
    "collapsed": true
   },
   "outputs": [],
   "source": []
  },
  {
   "cell_type": "markdown",
   "metadata": {},
   "source": [
    "## Setting up the Environment\n",
    "\n",
    "To begin, we must define the characteristics of the model's environment, that is the layout of the classroom. This is setup with two main variables:\n",
    "\n",
    "* The number of rows, `num_rows`\n",
    "* A list of blocks sizes, `blocks`, where each element describes the width of a seating section, which are separated by verticle aisles. Can be 0.\n",
    " \n",
    "Note the number of rows also counts for any horizontal aisles, which there is asssumed to be one at the front of the classrom. This can be specfied in the `aisles_y` variable. This however does not affect the agents' movement, but it is merely an asthetic feature when plotting."
   ]
  },
  {
   "cell_type": "code",
   "execution_count": 2,
   "metadata": {
    "collapsed": true
   },
   "outputs": [],
   "source": [
    "''' Define the Classroom shape '''\n",
    "num_rows = 14\n",
    "blocks = [6, 14, 0]\n",
    "aisles_y = [0]"
   ]
  },
  {
   "cell_type": "markdown",
   "metadata": {},
   "source": [
    "Next, it possible to score the seats in the classroom a desireability value, from the range [0, 1]. That is, seats with a score 0 are avoided by the students (e.g. the front rows seats), and seats with a score 1 are highly sought after (e.g. the seats in the middle that have a good view). These values are stored in a `numpy` array named `pos_utilities`. The shape of the array does not necessarily have to include the aisles (the model can fill these in). This should be indexed as (Column, Row) since we are dealing with (x, y) positional data. Also note the front row of the class is at index 0.\n",
    "\n",
    "This array can be generated in a varienty of ways, such as with some 2D distribution, but here we will keep it simple and split the classroom into sections and manually define some scores."
   ]
  },
  {
   "cell_type": "code",
   "execution_count": 3,
   "metadata": {},
   "outputs": [
    {
     "data": {
      "image/png": "[encoded data removed]",
      "text/plain": [
       "<matplotlib.figure.Figure at 0x7f0cac9ab358>"
      ]
     },
     "metadata": {},
     "output_type": "display_data"
    }
   ],
   "source": [
    "''' Define the positional utilities of the classroom '''\n",
    "pos_utilities = np.ones((sum(blocks), num_rows))\n",
    "\n",
    "# use the blocks to calculate the aisles' locations \n",
    "# and use them to define sections\n",
    "aisles = np.cumsum(blocks)\n",
    "\n",
    "# first three rows very undesirable\n",
    "pos_utilities[aisles[0]+1:, 0:3] *= 0.05\n",
    "pos_utilities[0:aisles[0]+1, 0:3] *= 0.0\n",
    "\n",
    "# back five rows somewhat desirable\n",
    "pos_utilities[aisles[0]+1:, -5:] *= 0.5\n",
    "pos_utilities[0:aisles[0]+1, -5:] *= 0.2\n",
    "\n",
    "# middle section to the left also quite desirable\n",
    "pos_utilities[0:aisles[0]+1, 3:-5] *= 0.7\n",
    "\n",
    "''' Plot this utility map '''\n",
    "plt.imshow(pos_utilities.T, cmap='gray')\n",
    "plt.title('Positional Utilites of Classroom')\n",
    "plt.colorbar()\n",
    "plt.show()"
   ]
  },
  {
   "cell_type": "markdown",
   "metadata": {},
   "source": [
    "Finally, these parameters are stored in an instance of the `ClassroomDesign` class, for reuse and referencing later."
   ]
  },
  {
   "cell_type": "code",
   "execution_count": 4,
   "metadata": {
    "collapsed": true
   },
   "outputs": [],
   "source": [
    "from model import ClassroomDesign\n",
    "\n",
    "''' Create the classroom object '''\n",
    "classroom = ClassroomDesign(blocks=blocks,\n",
    "                            num_rows=num_rows,\n",
    "                            aisles_y=aisles_y,\n",
    "                            pos_utilities=pos_utilities)"
   ]
  },
  {
   "cell_type": "markdown",
   "metadata": {},
   "source": [
    "### The Agents\n",
    "\n",
    "The students in the simulation have numerous perameters that facilitate dynamic behaviour. \n",
    "\n",
    "First, each student has a *sociability* factor that determines how comfortable they are sitting next to someone that they do not know. Negative values indicate social aversion (e.g. rather sit alone), 0 indiffernece, and positive values for a sociable student, willing to meet new people. (The exact range of these values does not matter, since they will be normalised in the utility calulations).\n",
    "\n",
    "To set this in the model, we must generate a list of sociabilities to use, one for each student. This can be generated in a few ways, e.g. sampled from a suitable probability distribution (e.g. Uniform, Normal, Cauchy etc). For this example however, we will instead draw from a distribution generated from some real, collected data on this behaviour."
   ]
  },
  {
   "cell_type": "code",
   "execution_count": 5,
   "metadata": {},
   "outputs": [
    {
     "data": {
      "image/png": "[encoded data removed]",
      "text/plain": [
       "<matplotlib.figure.Figure at 0x7f0c7c195d30>"
      ]
     },
     "metadata": {},
     "output_type": "display_data"
    }
   ],
   "source": [
    "from data_processing.process_form import agent_sociability_gen\n",
    "\n",
    "''' Set the students sociabilities '''\n",
    "class_size = 150\n",
    "sociability_generator = agent_sociability_gen()\n",
    "sociability_sequence = [next(sociability_generator) for _ in range(class_size)]\n",
    "\n",
    "plt.hist(sociability_sequence)\n",
    "plt.title('Distribution of Sociability Parameters')\n",
    "plt.show()"
   ]
  },
  {
   "cell_type": "markdown",
   "metadata": {},
   "source": [
    "Next, we must setup the *social network* of the class. Students are likely to sit next to other friends in the room, provided it is not too difficult to reach them. This network is a unweighted, undirected graph where each edge indicates a mutual friendship, and this is stored as `social_network`, an NxN matrix. Students are likely to sit next to other friends in the room, provided it is not too difficult to reach them.\n",
    "\n",
    "Again, there are a variety of possibilities to generate this social graph for experiments. Just like the sociabilities, we can use real data that we also collected. However, for simplicity we will use the library `networkx` to create an Erdős-Renyi graph, which has been shown to accurately model real networks"
   ]
  },
  {
   "cell_type": "code",
   "execution_count": 6,
   "metadata": {},
   "outputs": [],
   "source": [
    "import networkx as nx\n",
    "\n",
    "''' Set the social network '''\n",
    "er_graph = nx.erdos_renyi_graph(class_size, 0.2)\n",
    "social_network = nx.to_numpy_matrix(er_graph)\n",
    "\n",
    "####################\n",
    "# To use the real data, uncomment the following:\n",
    "\n",
    "# from data_processing.process_form import agent_friends_gen\n",
    "# from social.network import walts_graph\n",
    "# friendship_generator = agent_friends_gen()\n",
    "# degree_sequence = [next(friendship_generator) for _ in range(class_size)]\n",
    "# social_network = walts_graph(degree_sequence, plot=False)[0]"
   ]
  },
  {
   "cell_type": "markdown",
   "metadata": {},
   "source": [
    "### Model Setup\n",
    "\n",
    "The model we have created is essentially a discrete choice model, and so a crucial component of the model is the *utility function*. The utility of a seat $\\vec{x}_i$ for student $i$ takes the form:\n",
    "\n",
    "$$\n",
    "\\begin{equation}\n",
    "u_i(\\vec{x}_i) = \\beta_1 f_i + \\beta_2 s_i + \\beta_3 p_i + \\beta_4 a_i\n",
    "\\end{equation}\n",
    "$$\n",
    "\n",
    "A full description of how this utility is calculated can be found in our paper *An Agent-Based Model of Classroom Seating Behaviour* (LINK). For a simulation run, we must define the coefficients of this function, namely the $\\beta$s. This is stored as an ordered list `coeffs`. Note that while the model requires that each $\\beta$ is in the range (0, 1) and they must total 1, the model will automatically normalise any set of coefficients to meet these requirements. As expected, the values of these coefficients have a dramatic impact on the model's dynamics, and is the center of the study."
   ]
  },
  {
   "cell_type": "code",
   "execution_count": 7,
   "metadata": {
    "collapsed": true
   },
   "outputs": [],
   "source": [
    "''' Define the utility coefficients '''\n",
    "coefs = [\n",
    "    0.3,   # positional utility\n",
    "    1,     # friendship utility\n",
    "    0,     # sociability \n",
    "    1      # accessability\n",
    "]"
   ]
  },
  {
   "cell_type": "markdown",
   "metadata": {},
   "source": [
    "Now that all the components have been set up, we can finally initialise the model."
   ]
  },
  {
   "cell_type": "code",
   "execution_count": 13,
   "metadata": {},
   "outputs": [],
   "source": [
    "from model import ClassroomModel\n",
    "\n",
    "''' Initialise the model '''\n",
    "classroom_model = ClassroomModel(classroom_design=classroom,\n",
    "                                 coefs=coefs,\n",
    "                                 social_network=social_network,\n",
    "                                 seed=1)"
   ]
  },
  {
   "cell_type": "markdown",
   "metadata": {},
   "source": [
    "We can observe the model as it is now"
   ]
  },
  {
   "cell_type": "code",
   "execution_count": 14,
   "metadata": {},
   "outputs": [
    {
     "data": {
      "image/png": "[encoded data removed]",
      "text/plain": [
       "<matplotlib.figure.Figure at 0x7f0c786f3518>"
      ]
     },
     "metadata": {},
     "output_type": "display_data"
    }
   ],
   "source": [
    "from animation import get_animation\n",
    "\n",
    "get_animation(jupyter=True)\n",
    "plt.show()"
   ]
  },
  {
   "cell_type": "code",
   "execution_count": null,
   "metadata": {
    "collapsed": true
   },
   "outputs": [],
   "source": []
  },
  {
   "cell_type": "markdown",
   "metadata": {},
   "source": [
    "### Analysis"
   ]
  },
  {
   "cell_type": "code",
   "execution_count": null,
   "metadata": {
    "collapsed": true
   },
   "outputs": [],
   "source": []
  },
  {
   "cell_type": "code",
   "execution_count": null,
   "metadata": {
    "collapsed": true
   },
   "outputs": [],
   "source": []
  },
  {
   "cell_type": "code",
   "execution_count": null,
   "metadata": {
    "collapsed": true
   },
   "outputs": [],
   "source": []
  },
  {
   "cell_type": "code",
   "execution_count": null,
   "metadata": {
    "collapsed": true
   },
   "outputs": [],
   "source": []
  }
 ],
 "metadata": {
  "kernelspec": {
   "display_name": "Python 3",
   "language": "python",
   "name": "python3"
  },
  "language_info": {
   "codemirror_mode": {
    "name": "ipython",
    "version": 3
   },
   "file_extension": ".py",
   "mimetype": "text/x-python",
   "name": "python",
   "nbconvert_exporter": "python",
   "pygments_lexer": "ipython3",
   "version": "3.6.1"
  }
 },
 "nbformat": 4,
 "nbformat_minor": 2
}
