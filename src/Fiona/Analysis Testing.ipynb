{
 "cells": [
  {
   "cell_type": "code",
   "execution_count": 98,
   "metadata": {
    "collapsed": true
   },
   "outputs": [],
   "source": [
    "from jupyterthemes import jtplot\n",
    "\n",
    "import matplotlib.pyplot as plt\n",
    "import numpy as np\n",
    "import pickle as pkl\n",
    "import networkx as nx\n",
    "\n",
    "from run_classroom_seating import get_model_state\n",
    "from classroom_seating import ClassroomModel, ClassroomDesign\n",
    "\n",
    "jtplot.style(figsize=(10, 5))"
   ]
  },
  {
   "cell_type": "code",
   "execution_count": 11,
   "metadata": {
    "collapsed": true
   },
   "outputs": [],
   "source": [
    "\"\"\"\n",
    "Set the parameters\n",
    "\"\"\"\n",
    "seed = 0\n",
    "num_of_samples = 20\n",
    "\n",
    "# The classroom layout\n",
    "blocks = [10, 15, 10]\n",
    "num_rows = 20\n",
    "width = sum(blocks) + len(blocks) - 1\n",
    "entrances = [(width-1, 0)]\n",
    "pos_utilities = np.zeros((width, num_rows))\n",
    "classroom = ClassroomDesign(blocks, num_rows, pos_utilities, entrances)\n",
    "\n",
    "# The social network of Students\n",
    "cliques = 60\n",
    "clique_size = 6\n",
    "max_num_agents = cliques * clique_size\n",
    "prob_linked_cliques = 0.3\n",
    "social_network = nx.to_numpy_matrix(nx.relaxed_caveman_graph(cliques, clique_size, prob_linked_cliques, seed))\n",
    "\n",
    "# The coefficients for the utility function [position, friendship, sociability, accessibility]\n",
    "coefs_position_accessibility = [1, 0, 0, 0.1]\n",
    "coefs_sociability = [1, 0, 1, 0.1]\n",
    "coefs_friendship = [1, 1, 1, 0.1]\n",
    "\n",
    "model_pos_access = ClassroomModel(max_num_agents, classroom, coefs_position_accessibility)\n",
    "model_sociability = ClassroomModel(max_num_agents, classroom, coefs_sociability)\n",
    "model_friendship = ClassroomModel(max_num_agents, classroom, coefs_friendship, social_network=social_network)"
   ]
  },
  {
   "cell_type": "code",
   "execution_count": 12,
   "metadata": {
    "collapsed": true
   },
   "outputs": [],
   "source": [
    "\"\"\"\n",
    "Run model and save locally\n",
    "\"\"\"\n",
    "def run_model(model, path):\n",
    "    for i in range(num_iterations):\n",
    "        model.step()\n",
    "\n",
    "    model_state = get_model_state(model)\n",
    "\n",
    "    with open(path, \"wb\") as f:\n",
    "        pkl.dump(model_state, f)"
   ]
  },
  {
   "cell_type": "markdown",
   "metadata": {},
   "source": [
    "### Generate Data"
   ]
  },
  {
   "cell_type": "code",
   "execution_count": 149,
   "metadata": {},
   "outputs": [
    {
     "data": {
      "text/plain": [
       "'\\nGenerate a bunch of test samples\\n\\nWARNING SLOW\\n\\nModel Names:\\n - model_pa: Position + Accesibility\\n - model_s: Position + Accesibility + Sociability\\n - model_f: Position + Accesibility + Spciability + Friendships\\n \\n'"
      ]
     },
     "execution_count": 149,
     "metadata": {},
     "output_type": "execute_result"
    }
   ],
   "source": [
    "\"\"\"\n",
    "Generate a bunch of test samples\n",
    "\n",
    "WARNING SLOW\n",
    "\n",
    "Model Names:\n",
    " - model_pa: Position + Accesibility\n",
    " - model_s: Position + Accesibility + Sociability\n",
    " - model_f: Position + Accesibility + Spciability + Friendships\n",
    " \n",
    "\"\"\"\n",
    "# num_of_samples = 20\n",
    "# print('Model PA')\n",
    "# for i in range(num_of_samples):\n",
    "#     print(i, end=', ')\n",
    "#     model = ClassroomModel(max_num_agents, classroom, coefs_position_accessibility, seed=i+1)\n",
    "#     run_model(model, \"./test_models/model_pa%s.pkl\"%i)\n",
    "\n",
    "# print('\\nModel PAS')\n",
    "# for i in range(num_of_samples):\n",
    "#     print(i, end=', ')\n",
    "#     model = ClassroomModel(max_num_agents, classroom, coefs_sociability, seed=i+1)\n",
    "#     run_model(model, \"./test_models/model_s%s.pkl\"%i)\n",
    "    \n",
    "# print('\\nModel PASF')\n",
    "# for i in range(10):\n",
    "#     print(i, end=', ')\n",
    "#     model = ClassroomModel(max_num_agents, classroom, coefs_friendship, social_network=social_network, seed=i+1)\n",
    "#     run_model(model, \"./test_models/model_f%s.pkl\"%i)\n"
   ]
  },
  {
   "cell_type": "markdown",
   "metadata": {},
   "source": [
    "### Utilities"
   ]
  },
  {
   "cell_type": "code",
   "execution_count": 140,
   "metadata": {
    "collapsed": true
   },
   "outputs": [],
   "source": [
    "\"\"\"\n",
    "Reduces model to a 1 if seat full, otherwise 0, and strips aisles\n",
    "\"\"\"\n",
    "def reduce_model_state(model_state):\n",
    "    # assumes model uses blocks as set above\n",
    "    # width = sum(blocks)\n",
    "    # height = num_rows - 1   # remove the horizontal aisle\n",
    "\n",
    "    result = np.copy(model_state)\n",
    "    aisles = np.cumsum(blocks)[:-1]\n",
    "\n",
    "    for a in aisles:\n",
    "        result = np.delete(result, a, 1)\n",
    "    result = np.delete(result, 0, 0)\n",
    "\n",
    "    for seat in np.nditer(result, op_flags=['readwrite']):\n",
    "        seat[...] = 1 if seat > 0 else 0\n",
    "\n",
    "    return result\n",
    "\n",
    "\n",
    "\"\"\"\n",
    "Calculate the MSE between a model and a model profile. Both must have same dimension.\n",
    "\n",
    "Args:\n",
    "    model_counts: Counts of each state in comparision method (ie cluster sizes or convolutions)\n",
    "    profile: The count profile to compare model to\n",
    "\"\"\"\n",
    "def calculate_mse(model_counts, profile):\n",
    "    return ((profile - model_counts)**2).mean()\n",
    "\n",
    "\n",
    "\"\"\"\n",
    "Returns count of each length of cluster\n",
    "\n",
    "Args:\n",
    "    model_state: Model state WITHOUT aisles (ie reduced)\n",
    "\"\"\"\n",
    "def count_clusters(model_state):\n",
    "    count = np.zeros(max(blocks)+1)\n",
    "\n",
    "    limits = [0] + list(np.cumsum(blocks))\n",
    "\n",
    "    for row in model_state:\n",
    "        b = []\n",
    "        for i in range(len(limits)-1):\n",
    "            b.append(row[limits[i]:limits[i+1]])\n",
    "\n",
    "        for block in b:\n",
    "            c = 0\n",
    "            for seat in block:\n",
    "                if seat == 1:\n",
    "                    c += 1\n",
    "                else:\n",
    "                    count[c] += 1\n",
    "                    c = 0\n",
    "            count[c] += 1\n",
    "\n",
    "    return np.delete(count, 0, 0)\n",
    "\n",
    "\n",
    "\"\"\"\n",
    "Returns a count of each value in the convolution (0 to 255)\n",
    "\n",
    "Advantages:\n",
    "    - Captures a sense of spacial distribution\n",
    "    - Can work on any shaped lecture theater\n",
    "\n",
    "Args:\n",
    "    model_state: Model state WITHOUT aisles (ie reduced)\n",
    "\"\"\"\n",
    "def count_convolution_values(model_state):\n",
    "    i_diff = [-1, -1, -1, 0, 1, 1, 1, 0]\n",
    "    j_diff = [-1, 0, 1, 1, 1, 0, -1, -1]\n",
    "    \n",
    "    count = np.zeros(256)\n",
    "    \n",
    "    for i in np.arange(1, model_state.shape[0] - 1):\n",
    "        for j in np.arange(1, model_state.shape[1] - 1):\n",
    "            total = 0\n",
    "            for k in range(8):\n",
    "                total += model_state[i + i_diff[k], j + j_diff[k]] * 2**k\n",
    "            count[int(total)] += 1\n",
    "    \n",
    "    return count\n",
    "\n",
    "\n",
    "\"\"\"\n",
    "Loads the model state from path. Option to load as reduced model\n",
    "\n",
    "Args:\n",
    "    path: Path to model\n",
    "    reduced: Reduce the model to just seating positions, no aisles (default False)\n",
    "\"\"\"\n",
    "def load_model_state(path, reduced=False):\n",
    "    with open(path, \"rb\") as f:\n",
    "        model_state = pkl.load(f)[0]\n",
    "    if reduced:\n",
    "        return reduce_model_state(model_state)\n",
    "    else:\n",
    "        return model_state"
   ]
  },
  {
   "cell_type": "code",
   "execution_count": null,
   "metadata": {
    "collapsed": true
   },
   "outputs": [],
   "source": []
  },
  {
   "cell_type": "code",
   "execution_count": 151,
   "metadata": {},
   "outputs": [
    {
     "data": {
      "image/png": "[encoded data removed]",
      "text/plain": [
       "<matplotlib.figure.Figure at 0x7f0db72706a0>"
      ]
     },
     "metadata": {},
     "output_type": "display_data"
    }
   ],
   "source": [
    "# Test a model can be loaded\n",
    "\n",
    "model = load_model_state(\"./test_models/model_f0.pkl\", True)\n",
    "plt.imshow(model, cmap=\"Greys\")\n",
    "plt.grid(False)\n",
    "plt.show()"
   ]
  },
  {
   "cell_type": "code",
   "execution_count": null,
   "metadata": {
    "collapsed": true
   },
   "outputs": [],
   "source": []
  },
  {
   "cell_type": "markdown",
   "metadata": {},
   "source": [
    "### Using Cluster MSE"
   ]
  },
  {
   "cell_type": "code",
   "execution_count": 152,
   "metadata": {
    "collapsed": true
   },
   "outputs": [],
   "source": [
    "\"\"\"\n",
    "Build cluster profiles of model types\n",
    "\"\"\"\n",
    "\n",
    "pa_cluster_profile = np.zeros(max(blocks))\n",
    "for i in range(num_of_samples):\n",
    "    model_state = load_model_state(\"./test_models/model_pa%s.pkl\"%i, True)\n",
    "    pa_cluster_profile += count_clusters(model_state)\n",
    "pa_cluster_profile /= num_of_samples\n",
    "\n",
    "s_cluster_profile = np.zeros(max(blocks))\n",
    "for i in range(num_of_samples):\n",
    "    model_state = load_model_state(\"./test_models/model_s%s.pkl\"%i, True)   \n",
    "    s_cluster_profile += count_clusters(model_state)\n",
    "s_cluster_profile /= num_of_samples\n",
    "\n",
    "f_cluster_profile = np.zeros(max(blocks))\n",
    "for i in range(num_of_samples):\n",
    "    model_state = load_model_state(\"./test_models/model_f%s.pkl\"%i, True)\n",
    "    f_cluster_profile += count_clusters(model_state)\n",
    "f_cluster_profile /= num_of_samples\n",
    "\n",
    "cluster_profiles = [pa_cluster_profile, s_cluster_profile, f_cluster_profile]\n",
    "cluster_profile_names = [\"PA\", \"PAS\", \"PASF\"]"
   ]
  },
  {
   "cell_type": "code",
   "execution_count": 153,
   "metadata": {},
   "outputs": [
    {
     "name": "stdout",
     "output_type": "stream",
     "text": [
      "Mean Square Errors between model and profiles:\n",
      "Model PA: \t 58.32\n",
      "Model PAS: \t 9.47\n",
      "Model PASF: \t 134.16\n"
     ]
    },
    {
     "data": {
      "image/png": "[encoded data removed]",
      "text/plain": [
       "<matplotlib.figure.Figure at 0x7f0db77aa978>"
      ]
     },
     "metadata": {},
     "output_type": "display_data"
    }
   ],
   "source": [
    "plt.figure(figsize=[10, 5])\n",
    "\n",
    "real_model_state = load_model_state(\"./test_models/model_s1.pkl\", True)\n",
    "real_profile = count_clusters(real_model_state)\n",
    "print(\"Mean Square Errors between model and profiles:\")\n",
    "for i, p in enumerate(cluster_profiles):\n",
    "    mse = calculate_mse(real_profile, p)\n",
    "    print(\"Model %s: \\t %.2f\"%(cluster_profile_names[i], mse))\n",
    "    plt.plot(np.arange(1, 16), p, label=cluster_profile_names[i])\n",
    "\n",
    "plt.scatter(np.arange(1, 16), real_profile, label=\"Real Data\", c='w')\n",
    "plt.legend()\n",
    "plt.show()"
   ]
  },
  {
   "cell_type": "code",
   "execution_count": 156,
   "metadata": {},
   "outputs": [
    {
     "name": "stdout",
     "output_type": "stream",
     "text": [
      "[  3.  17.   0.]\n"
     ]
    }
   ],
   "source": [
    "classification = np.zeros(len(cluster_profiles))\n",
    "\n",
    "for i in range(num_of_samples):\n",
    "    model_state = load_model_state(\"./test_models/model_s%s.pkl\"%i, True)\n",
    "    profile = count_clusters(model_state)\n",
    "    best = 0\n",
    "    lowest = 100000\n",
    "    for j in range(len(classification)):\n",
    "        mse = calculate_mse(profile, cluster_profiles[j])\n",
    "        if mse < lowest:\n",
    "            best = j\n",
    "            lowest = mse\n",
    "    \n",
    "    classification[best] += 1\n",
    "    \n",
    "print(classification)"
   ]
  },
  {
   "cell_type": "markdown",
   "metadata": {
    "collapsed": true
   },
   "source": [
    "### Using Convolution MSE"
   ]
  },
  {
   "cell_type": "code",
   "execution_count": 157,
   "metadata": {
    "collapsed": true
   },
   "outputs": [],
   "source": [
    "\"\"\"\n",
    "Generate a profile for each model type\n",
    "\n",
    "pa\n",
    "f\n",
    "s\n",
    "\"\"\"\n",
    "\n",
    "pa_conv_profile = np.zeros(256)\n",
    "for i in range(num_of_samples):\n",
    "    model_state = load_model_state(\"./test_models/model_pa%s.pkl\"%i, True)\n",
    "    pa_conv_profile += count_convolution_values(model_state)\n",
    "pa_conv_profile /= num_of_samples\n",
    "\n",
    "s_conv_profile = np.zeros(256)\n",
    "for i in range(num_of_samples):\n",
    "    model_state = load_model_state(\"./test_models/model_s%s.pkl\"%i, True)   \n",
    "    s_conv_profile += count_convolution_values(model_state)\n",
    "s_conv_profile /= num_of_samples\n",
    "\n",
    "f_conv_profile = np.zeros(256)\n",
    "for i in range(num_of_samples):\n",
    "    model_state = load_model_state(\"./test_models/model_f%s.pkl\"%i, True)\n",
    "    f_conv_profile += count_convolution_values(model_state)\n",
    "f_conv_profile /= num_of_samples\n",
    "\n",
    "conv_profiles = [pa_conv_profile, s_conv_profile, f_conv_profile]\n",
    "conv_profile_names = [\"PA\", \"PAS\", \"PASF\"]"
   ]
  },
  {
   "cell_type": "code",
   "execution_count": null,
   "metadata": {
    "collapsed": true
   },
   "outputs": [],
   "source": []
  },
  {
   "cell_type": "code",
   "execution_count": 158,
   "metadata": {},
   "outputs": [
    {
     "name": "stdout",
     "output_type": "stream",
     "text": [
      "Mean Square Errors between model and profiles:\n",
      "Model PA: \t 9.28\n",
      "Model PAS: \t 1.55\n",
      "Model PASF: \t 21.28\n"
     ]
    },
    {
     "data": {
      "image/png": "[encoded data removed]",
      "text/plain": [
       "<matplotlib.figure.Figure at 0x7f0dba83c7f0>"
      ]
     },
     "metadata": {},
     "output_type": "display_data"
    }
   ],
   "source": [
    "real_profile = count_convolution_values(load_model_state(\"./test_models/model_s8.pkl\", True))\n",
    "\n",
    "plt.figure(figsize=[10, 5])\n",
    "print(\"Mean Square Errors between model and profiles:\")\n",
    "for i, p in enumerate(conv_profiles):\n",
    "    mse = calculate_mse(real_profile, p)\n",
    "    print(\"Model %s: \\t %.2f\"%(conv_profile_names[i], mse))\n",
    "    plt.plot(p, label=conv_profile_names[i])\n",
    "\n",
    "plt.legend()\n",
    "plt.show()"
   ]
  },
  {
   "cell_type": "code",
   "execution_count": 162,
   "metadata": {},
   "outputs": [
    {
     "name": "stdout",
     "output_type": "stream",
     "text": [
      "[  2.  18.   0.]\n"
     ]
    }
   ],
   "source": [
    "# test robustness of convolution method\n",
    "\n",
    "classification = np.zeros(len(conv_profiles))\n",
    "\n",
    "for i in range(num_of_samples):\n",
    "    profile = count_convolution_values(load_model_state(\"./test_models/model_s%s.pkl\"%i, True))\n",
    "    \n",
    "    best = 0\n",
    "    lowest = 100000\n",
    "    for j in range(len(classification)):\n",
    "        mse = calculate_mse(profile, conv_profiles[j])\n",
    "        if mse < lowest:\n",
    "            best = j\n",
    "            lowest = mse\n",
    "    \n",
    "    classification[best] += 1\n",
    "    \n",
    "print(classification)"
   ]
  },
  {
   "cell_type": "markdown",
   "metadata": {},
   "source": [
    "### Using GLCM Texture Analysis"
   ]
  },
  {
   "cell_type": "code",
   "execution_count": 18,
   "metadata": {
    "collapsed": true
   },
   "outputs": [],
   "source": [
    "from skimage.feature import greycomatrix, greycoprops\n",
    "# from skimage import data"
   ]
  },
  {
   "cell_type": "code",
   "execution_count": 22,
   "metadata": {
    "collapsed": true
   },
   "outputs": [],
   "source": [
    "patch_real = reduce_model_state(np.array(real_model_state, dtype=np.uint8))\n",
    "\n",
    "bsf_patches = []\n",
    "for i in range(10):\n",
    "    with open(\"./test_models/model_bsf%s.pkl\"%i, \"rb\") as f:\n",
    "        model_state = pkl.load(f).T\n",
    "    \n",
    "    \n",
    "    bsf_patches.append(reduce_model_state(np.array(model_state, dtype=np.uint8)))\n",
    "    \n",
    "bs_patches = []\n",
    "for i in range(10):\n",
    "    with open(\"./test_models/model_bs%s.pkl\"%i, \"rb\") as f:\n",
    "        model_state = pkl.load(f).T\n",
    "        \n",
    "    bs_patches.append(reduce_model_state(np.array(model_state, dtype=np.uint8)))\n",
    "\n",
    "b_patches = []\n",
    "for i in range(10):\n",
    "    with open(\"./test_models/model_b%s.pkl\"%i, \"rb\") as f:\n",
    "        model_state = pkl.load(f).T\n",
    "        \n",
    "    b_patches.append(reduce_model_state(np.array(model_state, dtype=np.uint8)))"
   ]
  },
  {
   "cell_type": "code",
   "execution_count": 48,
   "metadata": {},
   "outputs": [
    {
     "name": "stdout",
     "output_type": "stream",
     "text": [
      "[[ 1330.  1330.  1330.]\n",
      " [ 1292.  1260.  1292.]\n",
      " [ 1254.  1190.  1254.]\n",
      " [ 1216.  1120.  1216.]]\n"
     ]
    }
   ],
   "source": [
    "glcm_real = greycomatrix(b_patches[2], [0, 1, 2, 3], [0, np.pi/2, np.pi], 2, symmetric=True, normed=False)\n",
    "print(greycoprops(glcm_real, 'energy'))"
   ]
  },
  {
   "cell_type": "code",
   "execution_count": null,
   "metadata": {
    "collapsed": true
   },
   "outputs": [],
   "source": []
  },
  {
   "cell_type": "code",
   "execution_count": null,
   "metadata": {
    "collapsed": true
   },
   "outputs": [],
   "source": []
  },
  {
   "cell_type": "code",
   "execution_count": null,
   "metadata": {
    "collapsed": true
   },
   "outputs": [],
   "source": []
  },
  {
   "cell_type": "code",
   "execution_count": null,
   "metadata": {
    "collapsed": true
   },
   "outputs": [],
   "source": []
  },
  {
   "cell_type": "code",
   "execution_count": null,
   "metadata": {
    "collapsed": true
   },
   "outputs": [],
   "source": []
  },
  {
   "cell_type": "code",
   "execution_count": null,
   "metadata": {
    "collapsed": true
   },
   "outputs": [],
   "source": []
  },
  {
   "cell_type": "code",
   "execution_count": null,
   "metadata": {
    "collapsed": true
   },
   "outputs": [],
   "source": []
  },
  {
   "cell_type": "code",
   "execution_count": null,
   "metadata": {
    "collapsed": true
   },
   "outputs": [],
   "source": []
  },
  {
   "cell_type": "code",
   "execution_count": null,
   "metadata": {
    "collapsed": true
   },
   "outputs": [],
   "source": []
  }
 ],
 "metadata": {
  "kernelspec": {
   "display_name": "Python 3",
   "language": "python",
   "name": "python3"
  },
  "language_info": {
   "codemirror_mode": {
    "name": "ipython",
    "version": 3
   },
   "file_extension": ".py",
   "mimetype": "text/x-python",
   "name": "python",
   "nbconvert_exporter": "python",
   "pygments_lexer": "ipython3",
   "version": "3.6.1"
  }
 },
 "nbformat": 4,
 "nbformat_minor": 2
}
