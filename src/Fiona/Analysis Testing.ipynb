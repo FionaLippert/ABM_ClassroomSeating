{
 "cells": [
  {
   "cell_type": "code",
   "execution_count": 3,
   "metadata": {},
   "outputs": [],
   "source": [
    "import matplotlib.pyplot as plt\n",
    "import numpy as np\n",
    "import pickle as pkl\n",
    "import networkx as nx\n",
    "\n",
    "from run_classroom_seating import get_seat_blocking\n",
    "from classroom_seating import ClassroomModel"
   ]
  },
  {
   "cell_type": "code",
   "execution_count": 63,
   "metadata": {
    "collapsed": true
   },
   "outputs": [],
   "source": [
    "\"\"\"\n",
    "Model Parameters\n",
    "\"\"\"\n",
    "seed = 0\n",
    "# The classroom layout\n",
    "blocks = [10, 15, 10]\n",
    "num_rows = 20\n",
    "\n",
    "# The social network of Students\n",
    "cliques = 60\n",
    "clique_size = 6\n",
    "max_num_agents = cliques * clique_size\n",
    "prob_linked_cliques = 0.3\n",
    "social_network = nx.to_numpy_matrix(nx.relaxed_caveman_graph(cliques, clique_size, prob_linked_cliques, seed))\n",
    "\n",
    "num_iterations = max_num_agents\n",
    "\n",
    "model_real = ClassroomModel(max_num_agents, num_rows, blocks, seed, True, False, social_network)"
   ]
  },
  {
   "cell_type": "code",
   "execution_count": 5,
   "metadata": {
    "collapsed": true
   },
   "outputs": [],
   "source": [
    "\"\"\"\n",
    "Run model and save locally\n",
    "\"\"\"\n",
    "def run_model(model, path):\n",
    "    for i in range(num_iterations):\n",
    "        model.step()\n",
    "\n",
    "    model_state = get_seat_blocking(model, [True, True, True])\n",
    "\n",
    "    with open(path, \"wb\") as f:\n",
    "        pkl.dump(model_state, f)"
   ]
  },
  {
   "cell_type": "markdown",
   "metadata": {},
   "source": [
    "### Generate Data"
   ]
  },
  {
   "cell_type": "code",
   "execution_count": 48,
   "metadata": {},
   "outputs": [
    {
     "name": "stdout",
     "output_type": "stream",
     "text": [
      "0\n",
      "1\n",
      "2\n",
      "3\n",
      "4\n",
      "5\n",
      "6\n",
      "7\n",
      "8\n",
      "9\n",
      "10\n",
      "11\n",
      "12\n",
      "13\n",
      "14\n",
      "15\n",
      "16\n",
      "17\n",
      "18\n",
      "19\n"
     ]
    }
   ],
   "source": [
    "\"\"\"\n",
    "Model Names:\n",
    "\n",
    " - model_b##.pkl : random \n",
    " - model_bs##.pkl : random + sociability\n",
    " - model_bsf##.pkl : random + sociability + friendship (60 cliques, size 6, total = 360) \n",
    " - model_bsf_social2_##.pkl : random + sociability + friendship (180 cliques, size 2, total = 360) \n",
    " - model_bsf_theater2_##.pkl : random + sociability + friendship (60 cliques, size 6, total = 360, blocks = [0, 10, 25]) \n",
    " \n",
    "\"\"\"\n",
    "\n",
    "\n",
    "num_of_samples = 20\n",
    "# create a \"real\" model to test\n",
    "# run_model(model_real, \"real_model.pkl\")\n",
    "\n",
    "# generate a bunch of similar models\n",
    "\n",
    "for i in range(num_of_samples):\n",
    "    print(i)\n",
    "    model = ClassroomModel(max_num_agents, num_rows, blocks, i**2+1, True, False, social_network)\n",
    "\n",
    "    run_model(model, \"./test_models/model_bsf_theater2_%s.pkl\"%i)\n",
    "\n",
    "# # generate a bunch of disimilar models\n",
    "# for i in range(num_of_samples):\n",
    "#     print(i)\n",
    "#     model = ClassroomModel(max_num_agents, num_rows, blocks, i**2+1, True, False)\n",
    "\n",
    "#     run_model(model, \"./test_models/model_bs%s.pkl\"%i)\n",
    "\n",
    "# for i in np.arange(14, num_of_samples):\n",
    "#     print(i)\n",
    "#     model = ClassroomModel(max_num_agents, num_rows, blocks, i**2+1, False, False)\n",
    "\n",
    "#     run_model(model, \"./test_models/model_b%s.pkl\"%i)"
   ]
  },
  {
   "cell_type": "code",
   "execution_count": 64,
   "metadata": {
    "collapsed": true
   },
   "outputs": [],
   "source": [
    "\"\"\"\n",
    "Reduces model to a 1 if seat full, otherwise 0, and strips aisles\n",
    "\"\"\"\n",
    "def reduce_model_state(model_state):\n",
    "    # assumes model uses blocks as set above\n",
    "    # width = sum(blocks)\n",
    "    # height = num_rows - 1   # remove the horizontal aisle\n",
    "\n",
    "    result = np.copy(model_state)\n",
    "    aisles = np.cumsum(blocks)[:-1]\n",
    "\n",
    "    for a in aisles:\n",
    "        result = np.delete(result, a, 1)\n",
    "    result = np.delete(result, 0, 0)\n",
    "\n",
    "    for seat in np.nditer(result, op_flags=['readwrite']):\n",
    "        seat[...] = 1 if seat > 0 else 0\n",
    "\n",
    "    return result\n",
    "\n",
    "\n",
    "\"\"\"\n",
    "Returns count of each length of cluster\n",
    "\n",
    "Args:\n",
    "    model_state: Model state WITHOUT aisles (ie reduced)\n",
    "\"\"\"\n",
    "def count_clusters(model_state):\n",
    "    count = np.zeros(max(blocks)+1)\n",
    "\n",
    "    limits = [0] + list(np.cumsum(blocks))\n",
    "\n",
    "    for row in model_state:\n",
    "        b = []\n",
    "        for i in range(len(limits)-1):\n",
    "            b.append(row[limits[i]:limits[i+1]])\n",
    "\n",
    "        for block in b:\n",
    "            c = 0\n",
    "            for seat in block:\n",
    "                if seat == 1:\n",
    "                    c += 1\n",
    "                else:\n",
    "                    count[c] += 1\n",
    "                    c = 0\n",
    "            count[c] += 1\n",
    "\n",
    "    return np.delete(count, 0, 0)"
   ]
  },
  {
   "cell_type": "code",
   "execution_count": 69,
   "metadata": {},
   "outputs": [],
   "source": [
    "with open(\"./test_models/model_bsf1.pkl\", \"rb\") as f:\n",
    "    real_model_state = pkl.load(f).T"
   ]
  },
  {
   "cell_type": "code",
   "execution_count": 70,
   "metadata": {},
   "outputs": [
    {
     "data": {
      "image/png": "[encoded data removed]",
      "text/plain": [
       "<matplotlib.figure.Figure at 0x7fddccc3ed30>"
      ]
     },
     "metadata": {},
     "output_type": "display_data"
    }
   ],
   "source": [
    "plt.imshow(real_model_state, cmap=\"Greys\")\n",
    "plt.show()"
   ]
  },
  {
   "cell_type": "markdown",
   "metadata": {},
   "source": [
    "### Using Cluster MSE"
   ]
  },
  {
   "cell_type": "code",
   "execution_count": 77,
   "metadata": {},
   "outputs": [],
   "source": [
    "\"\"\"\n",
    "Build profiles of model types\n",
    "\"\"\"\n",
    "\n",
    "bsf_profile = np.zeros(max(blocks))\n",
    "\n",
    "for i in range(num_of_samples):\n",
    "    with open(\"./test_models/model_bsf%s.pkl\"%i, \"rb\") as f:\n",
    "        model_state = pkl.load(f).T\n",
    "\n",
    "    bsf_profile += count_clusters(reduce_model_state(model_state))\n",
    "\n",
    "bsf_profile /= num_of_samples\n",
    "\n",
    "bsf_profile_social2 = np.zeros(max(blocks))\n",
    "\n",
    "for i in range(num_of_samples):\n",
    "    with open(\"./test_models/model_bsf_social2_%s.pkl\"%i, \"rb\") as f:\n",
    "        model_state = pkl.load(f).T\n",
    "\n",
    "    bsf_profile_social2 += count_clusters(reduce_model_state(model_state))\n",
    "\n",
    "bsf_profile_social2 /= num_of_samples\n",
    "\n",
    "bsf_profile_theater2 = np.zeros(max(blocks))\n",
    "\n",
    "# for i in range(num_of_samples):\n",
    "#     with open(\"./test_models/model_bsf_theater2_%s.pkl\"%i, \"rb\") as f:\n",
    "#         model_state = pkl.load(f).T\n",
    "\n",
    "#     bsf_profile_theater2 += count_clusters(reduce_model_state(model_state))\n",
    "\n",
    "# bsf_profile_theater2 /= num_of_samples\n",
    "\n",
    "bs_profile = np.zeros(max(blocks))\n",
    "\n",
    "for i in range(num_of_samples):\n",
    "    with open(\"./test_models/model_bs%s.pkl\"%i, \"rb\") as f:\n",
    "        model_state = pkl.load(f).T\n",
    "\n",
    "    bs_profile += count_clusters(reduce_model_state(model_state))\n",
    "\n",
    "bs_profile /= num_of_samples\n",
    "\n",
    "b_profile = np.zeros(max(blocks))\n",
    "\n",
    "for i in range(num_of_samples):\n",
    "    with open(\"./test_models/model_b%s.pkl\"%i, \"rb\") as f:\n",
    "        model_state = pkl.load(f).T\n",
    "\n",
    "    b_profile += count_clusters(reduce_model_state(model_state))\n",
    "\n",
    "b_profile /= num_of_samples\n",
    "\n",
    "profiles = [bsf_profile, bsf_profile_social2, bs_profile, b_profile]\n",
    "profile_names = [\"BSF\", \"BSF2\", \"BS\", \"B\"]"
   ]
  },
  {
   "cell_type": "code",
   "execution_count": 89,
   "metadata": {},
   "outputs": [
    {
     "name": "stdout",
     "output_type": "stream",
     "text": [
      "Mean Square Errors between model and profiles:\n",
      "Model BSF: \t 5.20\n",
      "Model BSF2: \t 67.16\n",
      "Model BS: \t 145.15\n",
      "Model B: \t 166.51\n"
     ]
    },
    {
     "data": {
      "image/png": "[encoded data removed]",
      "text/plain": [
       "<matplotlib.figure.Figure at 0x7fddccdfdb70>"
      ]
     },
     "metadata": {},
     "output_type": "display_data"
    }
   ],
   "source": [
    "plt.figure(figsize=[10, 5])\n",
    "\n",
    "with open(\"./test_models/model_bsf4.pkl\", \"rb\") as f:\n",
    "    real_model_state = pkl.load(f).T\n",
    "\n",
    "real_profile = count_clusters(reduce_model_state(real_model_state))\n",
    "print(\"Mean Square Errors between model and profiles:\")\n",
    "for i, p in enumerate(profiles):\n",
    "    mse = ((p - real_profile)**2).mean()\n",
    "    print(\"Model %s: \\t %.2f\"%(profile_names[i], mse))\n",
    "    plt.plot(np.arange(1, 16), p, label=profile_names[i])\n",
    "\n",
    "plt.scatter(np.arange(1, 16), real_profile, label=\"Real Data\", c='k')\n",
    "plt.legend()\n",
    "plt.show()"
   ]
  },
  {
   "cell_type": "code",
   "execution_count": 91,
   "metadata": {},
   "outputs": [
    {
     "name": "stdout",
     "output_type": "stream",
     "text": [
      "[  0.   0.   1.  19.]\n"
     ]
    }
   ],
   "source": [
    "classification = np.zeros(len(profiles))\n",
    "\n",
    "for i in range(num_of_samples):\n",
    "    with open(\"./test_models/model_b%s.pkl\"%i, \"rb\") as f:\n",
    "        model_state = pkl.load(f).T\n",
    "    \n",
    "    profile = count_clusters(reduce_model_state(model_state))\n",
    "    best = 0\n",
    "    lowest = 100000\n",
    "    for j in range(len(classification)):\n",
    "        mse = ((profiles[j] - profile)**2).mean()\n",
    "        if mse < lowest:\n",
    "            best = j\n",
    "            lowest = mse\n",
    "    \n",
    "    classification[best] += 1\n",
    "    \n",
    "print(classification)"
   ]
  },
  {
   "cell_type": "code",
   "execution_count": null,
   "metadata": {
    "collapsed": true
   },
   "outputs": [],
   "source": []
  },
  {
   "cell_type": "markdown",
   "metadata": {},
   "source": [
    "### Using GLCM Texture Analysis"
   ]
  },
  {
   "cell_type": "code",
   "execution_count": 18,
   "metadata": {
    "collapsed": true
   },
   "outputs": [],
   "source": [
    "from skimage.feature import greycomatrix, greycoprops\n",
    "# from skimage import data"
   ]
  },
  {
   "cell_type": "code",
   "execution_count": 22,
   "metadata": {
    "collapsed": true
   },
   "outputs": [],
   "source": [
    "patch_real = reduce_model_state(np.array(real_model_state, dtype=np.uint8))\n",
    "\n",
    "bsf_patches = []\n",
    "for i in range(10):\n",
    "    with open(\"./test_models/model_bsf%s.pkl\"%i, \"rb\") as f:\n",
    "        model_state = pkl.load(f).T\n",
    "    \n",
    "    \n",
    "    bsf_patches.append(reduce_model_state(np.array(model_state, dtype=np.uint8)))\n",
    "    \n",
    "bs_patches = []\n",
    "for i in range(10):\n",
    "    with open(\"./test_models/model_bs%s.pkl\"%i, \"rb\") as f:\n",
    "        model_state = pkl.load(f).T\n",
    "        \n",
    "    bs_patches.append(reduce_model_state(np.array(model_state, dtype=np.uint8)))\n",
    "\n",
    "b_patches = []\n",
    "for i in range(10):\n",
    "    with open(\"./test_models/model_b%s.pkl\"%i, \"rb\") as f:\n",
    "        model_state = pkl.load(f).T\n",
    "        \n",
    "    b_patches.append(reduce_model_state(np.array(model_state, dtype=np.uint8)))"
   ]
  },
  {
   "cell_type": "code",
   "execution_count": 48,
   "metadata": {},
   "outputs": [
    {
     "name": "stdout",
     "output_type": "stream",
     "text": [
      "[[ 1330.  1330.  1330.]\n",
      " [ 1292.  1260.  1292.]\n",
      " [ 1254.  1190.  1254.]\n",
      " [ 1216.  1120.  1216.]]\n"
     ]
    }
   ],
   "source": [
    "glcm_real = greycomatrix(b_patches[2], [0, 1, 2, 3], [0, np.pi/2, np.pi], 2, symmetric=True, normed=False)\n",
    "print(greycoprops(glcm_real, 'energy'))"
   ]
  },
  {
   "cell_type": "code",
   "execution_count": null,
   "metadata": {
    "collapsed": true
   },
   "outputs": [],
   "source": []
  },
  {
   "cell_type": "code",
   "execution_count": null,
   "metadata": {
    "collapsed": true
   },
   "outputs": [],
   "source": []
  },
  {
   "cell_type": "code",
   "execution_count": null,
   "metadata": {
    "collapsed": true
   },
   "outputs": [],
   "source": []
  },
  {
   "cell_type": "code",
   "execution_count": null,
   "metadata": {
    "collapsed": true
   },
   "outputs": [],
   "source": []
  },
  {
   "cell_type": "code",
   "execution_count": null,
   "metadata": {
    "collapsed": true
   },
   "outputs": [],
   "source": []
  },
  {
   "cell_type": "code",
   "execution_count": null,
   "metadata": {
    "collapsed": true
   },
   "outputs": [],
   "source": []
  },
  {
   "cell_type": "code",
   "execution_count": null,
   "metadata": {
    "collapsed": true
   },
   "outputs": [],
   "source": []
  },
  {
   "cell_type": "code",
   "execution_count": null,
   "metadata": {
    "collapsed": true
   },
   "outputs": [],
   "source": []
  },
  {
   "cell_type": "code",
   "execution_count": null,
   "metadata": {
    "collapsed": true
   },
   "outputs": [],
   "source": []
  }
 ],
 "metadata": {
  "kernelspec": {
   "display_name": "Python 3",
   "language": "python",
   "name": "python3"
  },
  "language_info": {
   "codemirror_mode": {
    "name": "ipython",
    "version": 3
   },
   "file_extension": ".py",
   "mimetype": "text/x-python",
   "name": "python",
   "nbconvert_exporter": "python",
   "pygments_lexer": "ipython3",
   "version": "3.6.1"
  }
 },
 "nbformat": 4,
 "nbformat_minor": 2
}
