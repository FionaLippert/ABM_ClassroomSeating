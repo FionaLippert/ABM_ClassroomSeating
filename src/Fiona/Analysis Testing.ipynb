{
 "cells": [
  {
   "cell_type": "code",
   "execution_count": 1,
   "metadata": {
    "collapsed": true
   },
   "outputs": [],
   "source": [
    "from jupyterthemes import jtplot\n",
    "\n",
    "import matplotlib.pyplot as plt\n",
    "from scipy import signal\n",
    "import numpy as np\n",
    "import pickle as pkl\n",
    "import networkx as nx\n",
    "from importlib import reload\n",
    "\n",
    "from run_classroom_seating import get_model_state\n",
    "from classroom_seating import ClassroomModel, ClassroomDesign, Student, Seat\n",
    "\n",
    "jtplot.style(figsize=(10, 5))"
   ]
  },
  {
   "cell_type": "code",
   "execution_count": 2,
   "metadata": {
    "collapsed": true
   },
   "outputs": [],
   "source": [
    "\"\"\"\n",
    "Set the parameters\n",
    "\"\"\"\n",
    "seed = 0\n",
    "num_of_samples = 20\n",
    "\n",
    "# The classroom layout\n",
    "blocks = [10, 15, 10]\n",
    "num_rows = 20\n",
    "width = sum(blocks) + len(blocks) - 1\n",
    "entrances = [(width-1, 0)]\n",
    "pos_utilities = np.zeros((width, num_rows))\n",
    "classroom = ClassroomDesign(blocks, num_rows, pos_utilities, entrances)\n",
    "classroom2 = ClassroomDesign([0, 15, 6], 30, np.zeros((23, 30)), [(0,0)])\n",
    "\n",
    "# The social network of Students\n",
    "cliques = 60\n",
    "clique_size = 6\n",
    "max_num_agents = cliques * clique_size\n",
    "prob_linked_cliques = 0.3\n",
    "social_network = nx.to_numpy_matrix(nx.relaxed_caveman_graph(cliques, clique_size, prob_linked_cliques, seed))\n",
    "\n",
    "# The coefficients for the utility function [position, friendship, sociability, accessibility]\n",
    "coefs_position_accessibility = [1, 0, 0, 0.1]\n",
    "coefs_sociability = [1, 0, 1, 0.1]\n",
    "coefs_friendship = [1, 1, 1, 0.1]\n",
    "\n",
    "model_pos_access = ClassroomModel(max_num_agents, classroom, coefs_position_accessibility)\n",
    "model_sociability = ClassroomModel(max_num_agents, classroom, coefs_sociability)\n",
    "model_friendship = ClassroomModel(max_num_agents, classroom, coefs_friendship, social_network=social_network)"
   ]
  },
  {
   "cell_type": "code",
   "execution_count": 3,
   "metadata": {
    "collapsed": true
   },
   "outputs": [],
   "source": [
    "\"\"\"\n",
    "Run model and save locally\n",
    "\"\"\"\n",
    "def run_model(model, path):\n",
    "    for i in range(model.max_num_agents):\n",
    "        model.step()\n",
    "\n",
    "    model_state = get_model_state(model)\n",
    "\n",
    "    with open(path, \"wb\") as f:\n",
    "        pkl.dump(model_state, f)"
   ]
  },
  {
   "cell_type": "code",
   "execution_count": 4,
   "metadata": {},
   "outputs": [],
   "source": [
    "# reload(classroom_seating.py)\n",
    "\n",
    "for i in range(50):\n",
    "    model_friendship.step()\n",
    "\n",
    "model_state = get_model_state(model_friendship)"
   ]
  },
  {
   "cell_type": "code",
   "execution_count": 6,
   "metadata": {},
   "outputs": [
    {
     "data": {
      "image/png": "[encoded data removed]",
      "text/plain": [
       "<matplotlib.figure.Figure at 0x7f5617f48a90>"
      ]
     },
     "metadata": {},
     "output_type": "display_data"
    }
   ],
   "source": [
    "plt.imshow(model_state[0])\n",
    "plt.grid(False)\n",
    "plt.show()"
   ]
  },
  {
   "cell_type": "code",
   "execution_count": 7,
   "metadata": {},
   "outputs": [
    {
     "name": "stdout",
     "output_type": "stream",
     "text": [
      "0\n",
      "None\n"
     ]
    }
   ],
   "source": [
    "for agent in model_friendship.grid[2][2]:\n",
    "    if type(agent) == Seat:\n",
    "#         agent.update_accessibility()\n",
    "        print(agent.accessibility)\n",
    "        print(agent.student)"
   ]
  },
  {
   "cell_type": "markdown",
   "metadata": {},
   "source": [
    "### Generate Data"
   ]
  },
  {
   "cell_type": "code",
   "execution_count": 17,
   "metadata": {},
   "outputs": [
    {
     "name": "stdout",
     "output_type": "stream",
     "text": [
      "\n",
      "Model T2 PAS\n",
      "0, 1, 2, 3, 4, 5, 6, 7, 8, 9, 10, 11, 12, 13, 14, 15, 16, 17, 18, 19, \n",
      "Model T2 PASF\n",
      "0, 1, 2, 3, 4, 5, 6, 7, 8, 9, 10, 11, 12, 13, 14, 15, 16, 17, 18, 19, "
     ]
    }
   ],
   "source": [
    "\"\"\"\n",
    "Generate a bunch of test samples\n",
    "\n",
    "WARNING SLOW\n",
    "\n",
    "Model Names:\n",
    " - model_pa: Position + Accesibility\n",
    " - model_s: Position + Accesibility + Sociability\n",
    " - model_f: Position + Accesibility + Spciability + Friendships\n",
    " - model_t2_pa: Position + Accesibility (Theater [0, 15, 6])\n",
    " - model_t2_s: Position + Accesibility + Spciability (Theater [0, 15, 6])\n",
    " - model_t2_f: Position + Accesibility + Spciability + Friendships (Theater [0, 15, 6])\n",
    " \n",
    "\"\"\"\n",
    "num_of_samples = 20\n",
    "# print('Model PA')\n",
    "# for i in range(num_of_samples):\n",
    "#     print(i, end=', ')\n",
    "#     model = ClassroomModel(max_num_agents, classroom, coefs_position_accessibility, seed=i+1)\n",
    "#     run_model(model, \"./test_models/model_pa%s.pkl\"%i)\n",
    "\n",
    "# print('\\nModel PAS')\n",
    "# for i in range(num_of_samples):\n",
    "#     print(i, end=', ')\n",
    "#     model = ClassroomModel(max_num_agents, classroom, coefs_sociability, seed=i+1)\n",
    "#     run_model(model, \"./test_models/model_s%s.pkl\"%i)\n",
    "    \n",
    "# print('\\nModel PASF')\n",
    "# for i in range(10):\n",
    "#     print(i, end=', ')\n",
    "#     model = ClassroomModel(max_num_agents, classroom, coefs_friendship, social_network=social_network, seed=i+1)\n",
    "#     run_model(model, \"./test_models/model_f%s.pkl\"%i)\n",
    "\n",
    "# print('\\nModel T2 PA')\n",
    "# for i in range(num_of_samples):\n",
    "#     print(i, end=', ')\n",
    "#     model = ClassroomModel(max_num_agents, classroom2, coefs_position_accessibility, seed=i+1)\n",
    "#     run_model(model, \"./test_models/model_t2_pa%s.pkl\"%i)\n",
    "\n",
    "# print('\\nModel T2 PAS')\n",
    "# for i in range(num_of_samples):\n",
    "#     print(i, end=', ')\n",
    "#     model = ClassroomModel(max_num_agents, classroom2, coefs_sociability, seed=i+1)\n",
    "#     run_model(model, \"./test_models/model_t2_s%s.pkl\"%i)\n",
    "\n",
    "# print('\\nModel T2 PASF')\n",
    "# for i in range(num_of_samples):\n",
    "#     print(i, end=', ')\n",
    "#     model = ClassroomModel(max_num_agents, classroom2, coefs_friendship, social_network=social_network, seed=i+1)\n",
    "#     run_model(model, \"./test_models/model_t2_f%s.pkl\"%i)"
   ]
  },
  {
   "cell_type": "markdown",
   "metadata": {},
   "source": [
    "### Utilities"
   ]
  },
  {
   "cell_type": "code",
   "execution_count": 23,
   "metadata": {
    "collapsed": true
   },
   "outputs": [],
   "source": [
    "\"\"\"\n",
    "Reduces model to a 1 if seat full, otherwise 0, and strips aisles\n",
    "\"\"\"\n",
    "def reduce_model_state(model_state):\n",
    "    blocks = [0]\n",
    "    for i, x in enumerate(model_state[-1, :]):\n",
    "        if x != -8:\n",
    "            blocks[-1] += 1\n",
    "        else:\n",
    "            blocks.append(0)\n",
    "    \n",
    "    result = np.copy(model_state)\n",
    "    aisles = np.cumsum(blocks)[:-1]\n",
    "\n",
    "    for a in aisles:\n",
    "        result = np.delete(result, a, 1)\n",
    "    result = np.delete(result, 0, 0)\n",
    "\n",
    "    for seat in np.nditer(result, op_flags=['readwrite']):\n",
    "        seat[...] = 1 if seat > 0 else 0\n",
    "\n",
    "    return result\n",
    "\n",
    "\n",
    "\"\"\"\n",
    "Calculate the MSE between a model and a model profile. Both must have same dimension.\n",
    "\n",
    "Args:\n",
    "    model_counts: Counts of each state in comparision method (ie cluster sizes or convolutions)\n",
    "    profile: The count profile to compare model to\n",
    "\"\"\"\n",
    "def calculate_mse(model_counts, profile):\n",
    "    return ((profile - model_counts)**2).mean()\n",
    "\n",
    "\n",
    "\"\"\"\n",
    "Returns count of each length of cluster\n",
    "\n",
    "Args:\n",
    "    model_state: Model state WITHOUT aisles (ie reduced)\n",
    "\"\"\"\n",
    "def count_clusters(model_state):\n",
    "    count = np.zeros(max(blocks)+1)\n",
    "\n",
    "    limits = [0] + list(np.cumsum(blocks))\n",
    "\n",
    "    for row in model_state:\n",
    "        b = []\n",
    "        for i in range(len(limits)-1):\n",
    "            b.append(row[limits[i]:limits[i+1]])\n",
    "\n",
    "        for block in b:\n",
    "            c = 0\n",
    "            for seat in block:\n",
    "                if seat == 1:\n",
    "                    c += 1\n",
    "                else:\n",
    "                    count[c] += 1\n",
    "                    c = 0\n",
    "            count[c] += 1\n",
    "\n",
    "    return np.delete(count, 0, 0)\n",
    "\n",
    "\n",
    "\"\"\"\n",
    "Returns a count of each value in the Local Binary Pattern (0 to 255)\n",
    "\n",
    "Advantages:\n",
    "    - Captures a sense of spacial distribution\n",
    "    - Can work on any shaped lecture theater\n",
    "\n",
    "Args:\n",
    "    model_state: Model state WITHOUT aisles (ie reduced)\n",
    "\"\"\"\n",
    "def count_lbp(model_state):\n",
    "    i_diff = [-1, -1, -1, 0, 1, 1, 1, 0]\n",
    "    j_diff = [-1, 0, 1, 1, 1, 0, -1, -1]\n",
    "    \n",
    "    count = np.zeros(256)\n",
    "    for i in np.arange(1, model_state.shape[0] - 1):\n",
    "        for j in np.arange(1, model_state.shape[1] - 1):\n",
    "            total = 0\n",
    "            for k in range(8):\n",
    "                total += model_state[i + i_diff[k], j + j_diff[k]] * 2**k\n",
    "            count[int(total)] += 1\n",
    "    \n",
    "    return count\n",
    "\n",
    "\n",
    "\"\"\"\n",
    "Loads the model state from path. Option to load as reduced model\n",
    "\n",
    "Args:\n",
    "    path: Path to model\n",
    "    reduced: Reduce the model to just seating positions, no aisles (default False)\n",
    "\"\"\"\n",
    "def load_model_state(path, reduced=False):\n",
    "    with open(path, \"rb\") as f:\n",
    "        model_state = pkl.load(f)[0]\n",
    "    if reduced:\n",
    "        return reduce_model_state(model_state)\n",
    "    else:\n",
    "        return model_state"
   ]
  },
  {
   "cell_type": "code",
   "execution_count": null,
   "metadata": {
    "collapsed": true
   },
   "outputs": [],
   "source": []
  },
  {
   "cell_type": "code",
   "execution_count": 24,
   "metadata": {},
   "outputs": [
    {
     "data": {
      "image/png": "[encoded data removed]",
      "text/plain": [
       "<matplotlib.figure.Figure at 0x7f1a1c7ee470>"
      ]
     },
     "metadata": {},
     "output_type": "display_data"
    }
   ],
   "source": [
    "# Test a model can be loaded\n",
    "\n",
    "m_number = 4\n",
    "\n",
    "plt.subplot(1, 3, 1)\n",
    "model = load_model_state(\"./test_models/model_t2_pa%s.pkl\"%m_number, True)\n",
    "plt.imshow(model, cmap=\"Greys\")\n",
    "plt.grid(False)\n",
    "\n",
    "plt.subplot(1, 3, 2)\n",
    "model = load_model_state(\"./test_models/model_t2_s%s.pkl\"%m_number, True)\n",
    "plt.imshow(model, cmap=\"Greys\")\n",
    "plt.grid(False)\n",
    "\n",
    "plt.subplot(1, 3, 3)\n",
    "model = load_model_state(\"./test_models/model_t2_f%s.pkl\"%m_number, True)\n",
    "plt.imshow(model, cmap=\"Greys\")\n",
    "plt.grid(False)\n",
    "plt.show()"
   ]
  },
  {
   "cell_type": "code",
   "execution_count": 26,
   "metadata": {
    "collapsed": true
   },
   "outputs": [],
   "source": [
    "# load_model_state(\"./test_models/model_t2_pa%s.pkl\"%m_number, False)"
   ]
  },
  {
   "cell_type": "markdown",
   "metadata": {},
   "source": [
    "### Using Cluster MSE"
   ]
  },
  {
   "cell_type": "code",
   "execution_count": 125,
   "metadata": {
    "collapsed": true
   },
   "outputs": [],
   "source": [
    "\"\"\"\n",
    "Build cluster profiles of model types\n",
    "\"\"\"\n",
    "\n",
    "pa_cluster_profile = np.zeros(max(blocks))\n",
    "for i in range(num_of_samples):\n",
    "    model_state = load_model_state(\"./test_models/model_pa%s.pkl\"%i, True)\n",
    "    pa_cluster_profile += count_clusters(model_state)\n",
    "pa_cluster_profile /= num_of_samples\n",
    "\n",
    "s_cluster_profile = np.zeros(max(blocks))\n",
    "for i in range(num_of_samples):\n",
    "    model_state = load_model_state(\"./test_models/model_s%s.pkl\"%i, True)   \n",
    "    s_cluster_profile += count_clusters(model_state)\n",
    "s_cluster_profile /= num_of_samples\n",
    "\n",
    "f_cluster_profile = np.zeros(max(blocks))\n",
    "for i in range(num_of_samples):\n",
    "    model_state = load_model_state(\"./test_models/model_f%s.pkl\"%i, True)\n",
    "    f_cluster_profile += count_clusters(model_state)\n",
    "f_cluster_profile /= num_of_samples\n",
    "\n",
    "cluster_profiles = [pa_cluster_profile, s_cluster_profile, f_cluster_profile]\n",
    "cluster_profile_names = [\"PA\", \"PAS\", \"PASF\"]"
   ]
  },
  {
   "cell_type": "code",
   "execution_count": 153,
   "metadata": {},
   "outputs": [
    {
     "name": "stdout",
     "output_type": "stream",
     "text": [
      "Mean Square Errors between model and profiles:\n",
      "Model PA: \t 58.32\n",
      "Model PAS: \t 9.47\n",
      "Model PASF: \t 134.16\n"
     ]
    },
    {
     "data": {
      "image/png": "[encoded data removed]",
      "text/plain": [
       "<matplotlib.figure.Figure at 0x7f0db77aa978>"
      ]
     },
     "metadata": {},
     "output_type": "display_data"
    }
   ],
   "source": [
    "plt.figure(figsize=[10, 5])\n",
    "\n",
    "real_model_state = load_model_state(\"./test_models/model_s1.pkl\", True)\n",
    "real_profile = count_clusters(real_model_state)\n",
    "print(\"Mean Square Errors between model and profiles:\")\n",
    "for i, p in enumerate(cluster_profiles):\n",
    "    mse = calculate_mse(real_profile, p)\n",
    "    print(\"Model %s: \\t %.2f\"%(cluster_profile_names[i], mse))\n",
    "    plt.plot(np.arange(1, 16), p, label=cluster_profile_names[i])\n",
    "\n",
    "plt.scatter(np.arange(1, 16), real_profile, label=\"Real Data\", c='w')\n",
    "plt.legend()\n",
    "plt.show()"
   ]
  },
  {
   "cell_type": "code",
   "execution_count": 156,
   "metadata": {},
   "outputs": [
    {
     "name": "stdout",
     "output_type": "stream",
     "text": [
      "[  3.  17.   0.]\n"
     ]
    }
   ],
   "source": [
    "classification = np.zeros(len(cluster_profiles))\n",
    "\n",
    "for i in range(num_of_samples):\n",
    "    model_state = load_model_state(\"./test_models/model_s%s.pkl\"%i, True)\n",
    "    profile = count_clusters(model_state)\n",
    "    best = 0\n",
    "    lowest = 100000\n",
    "    for j in range(len(classification)):\n",
    "        mse = calculate_mse(profile, cluster_profiles[j])\n",
    "        if mse < lowest:\n",
    "            best = j\n",
    "            lowest = mse\n",
    "    \n",
    "    classification[best] += 1\n",
    "    \n",
    "print(classification)"
   ]
  },
  {
   "cell_type": "markdown",
   "metadata": {
    "collapsed": true
   },
   "source": [
    "### Using LBP MSE"
   ]
  },
  {
   "cell_type": "code",
   "execution_count": 84,
   "metadata": {
    "collapsed": true
   },
   "outputs": [],
   "source": [
    "\"\"\"\n",
    "Generate a profile for each model type\n",
    "\"\"\"\n",
    "\n",
    "pa_lbp_profile = np.zeros(256)\n",
    "for i in range(num_of_samples):\n",
    "    model_state = load_model_state(\"./test_models/model_pa%s.pkl\"%i, True)\n",
    "    pa_lbp_profile += count_lbp(model_state)\n",
    "pa_lbp_profile /= num_of_samples\n",
    "\n",
    "s_lbp_profile = np.zeros(256)\n",
    "for i in range(num_of_samples):\n",
    "    model_state = load_model_state(\"./test_models/model_s%s.pkl\"%i, True)   \n",
    "    s_lbp_profile += count_lbp(model_state)\n",
    "s_lbp_profile /= num_of_samples\n",
    "\n",
    "f_lbp_profile = np.zeros(256)\n",
    "for i in range(num_of_samples):\n",
    "    model_state = load_model_state(\"./test_models/model_f%s.pkl\"%i, True)\n",
    "    f_lbp_profile += count_lbp(model_state)\n",
    "f_lbp_profile /= num_of_samples\n",
    "\n",
    "lbp_profiles = [pa_lbp_profile, s_lbp_profile, f_lbp_profile]\n",
    "lbp_profile_names = [\"PA\", \"PAS\", \"PASF\"]"
   ]
  },
  {
   "cell_type": "code",
   "execution_count": null,
   "metadata": {
    "collapsed": true
   },
   "outputs": [],
   "source": []
  },
  {
   "cell_type": "code",
   "execution_count": 37,
   "metadata": {},
   "outputs": [
    {
     "name": "stdout",
     "output_type": "stream",
     "text": [
      "Mean Square Errors between model and profiles:\n",
      "Model PA: \t 9.28\n",
      "Model PAS: \t 1.55\n",
      "Model PASF: \t 21.28\n"
     ]
    },
    {
     "data": {
      "image/png": "[encoded data removed]",
      "text/plain": [
       "<matplotlib.figure.Figure at 0x7f3a78433860>"
      ]
     },
     "metadata": {},
     "output_type": "display_data"
    }
   ],
   "source": [
    "real_profile = count_lbp(load_model_state(\"./test_models/model_s8.pkl\", True))\n",
    "\n",
    "plt.figure(figsize=[10, 5])\n",
    "print(\"Mean Square Errors between model and profiles:\")\n",
    "for i, p in enumerate(lbp_profiles):\n",
    "    mse = calculate_mse(real_profile, p)\n",
    "    print(\"Model %s: \\t %.2f\"%(lbp_profile_names[i], mse))\n",
    "    plt.plot(p, label=lbp_profile_names[i])\n",
    "\n",
    "plt.legend()\n",
    "plt.show()"
   ]
  },
  {
   "cell_type": "code",
   "execution_count": 58,
   "metadata": {},
   "outputs": [
    {
     "name": "stdout",
     "output_type": "stream",
     "text": [
      "[('PA', 2.0), ('PAS', 18.0), ('PASF', 0.0)]\n"
     ]
    }
   ],
   "source": [
    "# test robustness of convolution method\n",
    "classification = np.zeros(len(lbp_profiles))\n",
    "\n",
    "for i in range(num_of_samples):\n",
    "    profile = count_lbp(load_model_state(\"./test_models/model_t2_pa%s.pkl\"%i, True))\n",
    "    \n",
    "    best = 0\n",
    "    lowest = 100000\n",
    "    for j in range(len(classification)):\n",
    "        mse = calculate_mse(profile, lbp_profiles[j])\n",
    "        if mse < lowest:\n",
    "            best = j\n",
    "            lowest = mse\n",
    "    \n",
    "    classification[best] += 1\n",
    "\n",
    "\n",
    "print([s for s in zip(lbp_profile_names, classification)])"
   ]
  },
  {
   "cell_type": "code",
   "execution_count": 102,
   "metadata": {
    "collapsed": true
   },
   "outputs": [],
   "source": [
    "import json\n",
    "\n",
    "with open('../../data/wed_24.json') as f:\n",
    "    real_data = json.load(f)"
   ]
  },
  {
   "cell_type": "code",
   "execution_count": 103,
   "metadata": {},
   "outputs": [
    {
     "data": {
      "image/png": "[encoded data removed]",
      "text/plain": [
       "<matplotlib.figure.Figure at 0x7f1a1c732588>"
      ]
     },
     "metadata": {},
     "output_type": "display_data"
    }
   ],
   "source": [
    "# real_data[0]['seatlocation'][3]\n",
    "seat_data = -np.ones((13, 22))\n",
    "for student in real_data:\n",
    "#     print(student['seatlocation'])\n",
    "    i, j = student[\"seatlocation\"].split(',')\n",
    "#     print(i, j)\n",
    "    seat_data[int(i), int(j)] = 1\n",
    "\n",
    "seat_data = np.delete(seat_data, 6, 1)\n",
    "seat_data = np.delete(seat_data, 20, 1)\n",
    "\n",
    "plt.imshow(seat_data, cmap='Greys')\n",
    "plt.grid(False)\n",
    "plt.show()"
   ]
  },
  {
   "cell_type": "code",
   "execution_count": null,
   "metadata": {
    "collapsed": true
   },
   "outputs": [],
   "source": []
  },
  {
   "cell_type": "code",
   "execution_count": 118,
   "metadata": {},
   "outputs": [
    {
     "name": "stdout",
     "output_type": "stream",
     "text": [
      "Mean Square Errors between model and profiles:\n",
      "Model PA: \t 130.65\n",
      "Model PAS: \t 95.18\n",
      "Model PASF: \t 87.38\n"
     ]
    },
    {
     "data": {
      "image/png": "[encoded data removed]",
      "text/plain": [
       "<matplotlib.figure.Figure at 0x7f3a777d0be0>"
      ]
     },
     "metadata": {},
     "output_type": "display_data"
    }
   ],
   "source": [
    "real_lbp = count_lbp(seat_data)\n",
    "\n",
    "plt.figure(figsize=[10, 5])\n",
    "print(\"Mean Square Errors between model and profiles:\")\n",
    "for i, p in enumerate(lbp_profiles):\n",
    "    mse = calculate_mse(real_lbp, p)\n",
    "    print(\"Model %s: \\t %.2f\"%(lbp_profile_names[i], mse))\n",
    "    plt.plot(p, label=lbp_profile_names[i])\n",
    "\n",
    "plt.legend()\n",
    "plt.show()"
   ]
  },
  {
   "cell_type": "code",
   "execution_count": null,
   "metadata": {
    "collapsed": true
   },
   "outputs": [],
   "source": []
  },
  {
   "cell_type": "markdown",
   "metadata": {},
   "source": [
    "### Using Entropy MSE"
   ]
  },
  {
   "cell_type": "code",
   "execution_count": 37,
   "metadata": {
    "collapsed": true
   },
   "outputs": [],
   "source": [
    "\"\"\"\n",
    "Generate a profile for each model type\n",
    "\"\"\"\n",
    "\n",
    "from utils import get_entropy\n",
    "\n",
    "pa_ent_profile = np.zeros(19)\n",
    "for i in range(num_of_samples):\n",
    "    model_state = load_model_state(\"./test_models/model_pa%s.pkl\"%i, True)\n",
    "    pa_ent_profile += get_entropy(model_state)\n",
    "pa_ent_profile /= num_of_samples\n",
    "\n",
    "s_ent_profile = np.zeros(19)\n",
    "for i in range(num_of_samples):\n",
    "    model_state = load_model_state(\"./test_models/model_s%s.pkl\"%i, True)   \n",
    "    s_ent_profile += get_entropy(model_state)\n",
    "s_ent_profile /= num_of_samples\n",
    "\n",
    "f_ent_profile = np.zeros(19)\n",
    "for i in range(num_of_samples):\n",
    "    model_state = load_model_state(\"./test_models/model_f%s.pkl\"%i, True)\n",
    "    f_ent_profile += get_entropy(model_state)\n",
    "f_ent_profile /= num_of_samples\n",
    "\n",
    "ent_profiles = [pa_ent_profile, s_ent_profile, f_ent_profile]\n",
    "ent_profile_names = [\"PA\", \"PAS\", \"PASF\"]"
   ]
  },
  {
   "cell_type": "code",
   "execution_count": 73,
   "metadata": {},
   "outputs": [
    {
     "name": "stdout",
     "output_type": "stream",
     "text": [
      "Mean Square Errors between model and profiles:\n",
      "Model PA: \t 0.41\n",
      "Model PAS: \t 0.20\n",
      "Model PASF: \t 0.05\n"
     ]
    },
    {
     "data": {
      "image/png": "[encoded data removed]",
      "text/plain": [
       "<matplotlib.figure.Figure at 0x7f1a1c643a90>"
      ]
     },
     "metadata": {},
     "output_type": "display_data"
    }
   ],
   "source": [
    "real_profile = get_entropy(load_model_state(\"./test_models/model_f10.pkl\", True))\n",
    "\n",
    "plt.figure(figsize=[10, 5])\n",
    "print(\"Mean Square Errors between model and profiles:\")\n",
    "for i, p in enumerate(ent_profiles):\n",
    "    mse = calculate_mse(real_profile, p)\n",
    "    print(\"Model %s: \\t %.2f\"%(ent_profile_names[i], mse))\n",
    "    plt.plot(range(1, 20), p, label=ent_profile_names[i])\n",
    "plt.plot(range(1, 20), real_profile, 'wo', label='Data')\n",
    "plt.plot(range(1, 20), 1+np.log2(range(1, 20)), 'grey', ls='--', label='Theoretical')\n",
    "plt.legend()\n",
    "plt.ylabel('Entropy')\n",
    "plt.xlabel('k')\n",
    "plt.xlim([1, 19])\n",
    "plt.show()"
   ]
  },
  {
   "cell_type": "code",
   "execution_count": null,
   "metadata": {
    "collapsed": true
   },
   "outputs": [],
   "source": []
  },
  {
   "cell_type": "code",
   "execution_count": null,
   "metadata": {
    "collapsed": true
   },
   "outputs": [],
   "source": []
  },
  {
   "cell_type": "code",
   "execution_count": null,
   "metadata": {
    "collapsed": true
   },
   "outputs": [],
   "source": []
  },
  {
   "cell_type": "markdown",
   "metadata": {},
   "source": [
    "### Image Comparison"
   ]
  },
  {
   "cell_type": "code",
   "execution_count": 155,
   "metadata": {},
   "outputs": [
    {
     "name": "stdout",
     "output_type": "stream",
     "text": [
      "-64.0\n"
     ]
    },
    {
     "data": {
      "image/png": "[encoded data removed]",
      "text/plain": [
       "<matplotlib.figure.Figure at 0x7f3a777034a8>"
      ]
     },
     "metadata": {},
     "output_type": "display_data"
    }
   ],
   "source": [
    "model = load_model_state(\"./test_models/model_f10.pkl\", True)\n",
    "\n",
    "corr = signal.correlate2d(seat_data, model, mode='same', boundary='fill')\n",
    "\n",
    "plt.imshow(corr)\n",
    "plt.grid(False)\n",
    "print(np.max(corr))\n",
    "plt.show()"
   ]
  },
  {
   "cell_type": "code",
   "execution_count": 157,
   "metadata": {},
   "outputs": [
    {
     "data": {
      "text/plain": [
       "[-74.0, -75.0, -65.0]"
      ]
     },
     "execution_count": 157,
     "metadata": {},
     "output_type": "execute_result"
    }
   ],
   "source": [
    "corrs = []\n",
    "models = [load_model_state(\"./test_models/model_pa0.pkl\", True),\n",
    "          load_model_state(\"./test_models/model_s0.pkl\", True),\n",
    "          load_model_state(\"./test_models/model_f0.pkl\", True)]\n",
    "\n",
    "for p in models:\n",
    "    corrs.append(np.max(signal.correlate2d(seat_data, p, mode='same', boundary='fill')))\n",
    "    \n",
    "corrs"
   ]
  },
  {
   "cell_type": "code",
   "execution_count": null,
   "metadata": {
    "collapsed": true
   },
   "outputs": [],
   "source": []
  },
  {
   "cell_type": "code",
   "execution_count": null,
   "metadata": {
    "collapsed": true
   },
   "outputs": [],
   "source": []
  },
  {
   "cell_type": "code",
   "execution_count": null,
   "metadata": {
    "collapsed": true
   },
   "outputs": [],
   "source": []
  },
  {
   "cell_type": "code",
   "execution_count": null,
   "metadata": {
    "collapsed": true
   },
   "outputs": [],
   "source": []
  },
  {
   "cell_type": "code",
   "execution_count": null,
   "metadata": {
    "collapsed": true
   },
   "outputs": [],
   "source": []
  },
  {
   "cell_type": "markdown",
   "metadata": {},
   "source": [
    "### Using GLCM Texture Analysis"
   ]
  },
  {
   "cell_type": "code",
   "execution_count": 18,
   "metadata": {
    "collapsed": true
   },
   "outputs": [],
   "source": [
    "from skimage.feature import greycomatrix, greycoprops\n",
    "# from skimage import data"
   ]
  },
  {
   "cell_type": "code",
   "execution_count": 22,
   "metadata": {
    "collapsed": true
   },
   "outputs": [],
   "source": [
    "patch_real = reduce_model_state(np.array(real_model_state, dtype=np.uint8))\n",
    "\n",
    "bsf_patches = []\n",
    "for i in range(10):\n",
    "    with open(\"./test_models/model_bsf%s.pkl\"%i, \"rb\") as f:\n",
    "        model_state = pkl.load(f).T\n",
    "    \n",
    "    \n",
    "    bsf_patches.append(reduce_model_state(np.array(model_state, dtype=np.uint8)))\n",
    "    \n",
    "bs_patches = []\n",
    "for i in range(10):\n",
    "    with open(\"./test_models/model_bs%s.pkl\"%i, \"rb\") as f:\n",
    "        model_state = pkl.load(f).T\n",
    "        \n",
    "    bs_patches.append(reduce_model_state(np.array(model_state, dtype=np.uint8)))\n",
    "\n",
    "b_patches = []\n",
    "for i in range(10):\n",
    "    with open(\"./test_models/model_b%s.pkl\"%i, \"rb\") as f:\n",
    "        model_state = pkl.load(f).T\n",
    "        \n",
    "    b_patches.append(reduce_model_state(np.array(model_state, dtype=np.uint8)))"
   ]
  },
  {
   "cell_type": "code",
   "execution_count": 48,
   "metadata": {},
   "outputs": [
    {
     "name": "stdout",
     "output_type": "stream",
     "text": [
      "[[ 1330.  1330.  1330.]\n",
      " [ 1292.  1260.  1292.]\n",
      " [ 1254.  1190.  1254.]\n",
      " [ 1216.  1120.  1216.]]\n"
     ]
    }
   ],
   "source": [
    "glcm_real = greycomatrix(b_patches[2], [0, 1, 2, 3], [0, np.pi/2, np.pi], 2, symmetric=True, normed=False)\n",
    "print(greycoprops(glcm_real, 'energy'))"
   ]
  },
  {
   "cell_type": "code",
   "execution_count": null,
   "metadata": {
    "collapsed": true
   },
   "outputs": [],
   "source": []
  },
  {
   "cell_type": "markdown",
   "metadata": {
    "collapsed": true
   },
   "source": [
    "### Testing utils.py"
   ]
  },
  {
   "cell_type": "code",
   "execution_count": 16,
   "metadata": {
    "collapsed": true
   },
   "outputs": [],
   "source": [
    "for i in range(10):\n",
    "    model_friendship.step()"
   ]
  },
  {
   "cell_type": "code",
   "execution_count": 2,
   "metadata": {
    "collapsed": true
   },
   "outputs": [],
   "source": [
    "import utils\n",
    "# reduced_model = utils.reduce_model_state(model_friendship)"
   ]
  },
  {
   "cell_type": "code",
   "execution_count": 118,
   "metadata": {},
   "outputs": [
    {
     "data": {
      "text/plain": [
       "<module 'utils' from '/home/arran/Documents/ABM/ABM_RocketMan/src/Fiona/utils.py'>"
      ]
     },
     "execution_count": 118,
     "metadata": {},
     "output_type": "execute_result"
    }
   ],
   "source": [
    "reload(utils)"
   ]
  },
  {
   "cell_type": "code",
   "execution_count": 18,
   "metadata": {},
   "outputs": [
    {
     "data": {
      "image/png": "[encoded data removed]",
      "text/plain": [
       "<matplotlib.figure.Figure at 0x7f1a1ca55c18>"
      ]
     },
     "metadata": {},
     "output_type": "display_data"
    }
   ],
   "source": [
    "plt.imshow(utils.reduce_model_state(model_friendship))\n",
    "plt.show()"
   ]
  },
  {
   "cell_type": "code",
   "execution_count": 20,
   "metadata": {},
   "outputs": [
    {
     "data": {
      "image/png": "[encoded data removed]",
      "text/plain": [
       "<matplotlib.figure.Figure at 0x7f1a1c8c8ef0>"
      ]
     },
     "metadata": {},
     "output_type": "display_data"
    }
   ],
   "source": [
    "reduced_model = utils.reduce_model_state(model_friendship)\n",
    "\n",
    "plt.plot(utils.count_lbp(reduced_model))\n",
    "plt.show()"
   ]
  },
  {
   "cell_type": "code",
   "execution_count": 77,
   "metadata": {},
   "outputs": [
    {
     "data": {
      "text/plain": [
       "[0.97095059445466858, 0.98869940828849745, 0.91829583405448956, 1.5, -0.0]"
      ]
     },
     "execution_count": 77,
     "metadata": {},
     "output_type": "execute_result"
    }
   ],
   "source": [
    "arr = np.array([[0, 1, 1, 1, 0], [1, 1, 0, 1, 1], [1, 0, 1, 0, 0], [0, 1, 1, 1, 1], [1, 0, 1, 0, 0]])\n",
    "utils.get_entropy(arr)"
   ]
  },
  {
   "cell_type": "code",
   "execution_count": 81,
   "metadata": {},
   "outputs": [
    {
     "data": {
      "text/plain": [
       "4.0"
      ]
     },
     "execution_count": 81,
     "metadata": {},
     "output_type": "execute_result"
    }
   ],
   "source": [
    "a = range(5)\n",
    "b = range(2, 7)\n",
    "\n",
    "utils.calculate_mse(a, b)"
   ]
  },
  {
   "cell_type": "code",
   "execution_count": 132,
   "metadata": {},
   "outputs": [
    {
     "data": {
      "text/plain": [
       "275.00783333333328"
      ]
     },
     "execution_count": 132,
     "metadata": {},
     "output_type": "execute_result"
    }
   ],
   "source": [
    "reload(utils)\n",
    "utils.compare_model(seat_data, pa_cluster_profile, method='cluster', aisles=[2, 10])\n",
    "# utils.count_clusters(seat_data, [1, 3])\n",
    "# utils.reduce_model_state(model_friendship)\n",
    "# type(model_friendship) == type(ClassroomModel)\n",
    "# isinstance(model_friendship, ClassroomModel)\n"
   ]
  },
  {
   "cell_type": "code",
   "execution_count": 134,
   "metadata": {
    "collapsed": true
   },
   "outputs": [],
   "source": [
    "models = []\n",
    "for i in range(20):\n",
    "    model = ClassroomModel(max_num_agents, classroom, coefs_position_accessibility)\n",
    "    for j in range(10):\n",
    "        model.step()\n",
    "    models.append(model)"
   ]
  },
  {
   "cell_type": "code",
   "execution_count": 148,
   "metadata": {},
   "outputs": [
    {
     "data": {
      "image/png": "[encoded data removed]",
      "text/plain": [
       "<matplotlib.figure.Figure at 0x7f1a1b9290b8>"
      ]
     },
     "metadata": {},
     "output_type": "display_data"
    }
   ],
   "source": [
    "reload(utils)\n",
    "plt.plot(utils.generate_profile(models, method='entropy'))\n",
    "plt.show()"
   ]
  },
  {
   "cell_type": "code",
   "execution_count": null,
   "metadata": {
    "collapsed": true
   },
   "outputs": [],
   "source": []
  },
  {
   "cell_type": "code",
   "execution_count": null,
   "metadata": {
    "collapsed": true
   },
   "outputs": [],
   "source": []
  },
  {
   "cell_type": "code",
   "execution_count": null,
   "metadata": {
    "collapsed": true
   },
   "outputs": [],
   "source": []
  },
  {
   "cell_type": "code",
   "execution_count": null,
   "metadata": {
    "collapsed": true
   },
   "outputs": [],
   "source": []
  },
  {
   "cell_type": "code",
   "execution_count": null,
   "metadata": {
    "collapsed": true
   },
   "outputs": [],
   "source": []
  }
 ],
 "metadata": {
  "kernelspec": {
   "display_name": "Python 3",
   "language": "python",
   "name": "python3"
  },
  "language_info": {
   "codemirror_mode": {
    "name": "ipython",
    "version": 3
   },
   "file_extension": ".py",
   "mimetype": "text/x-python",
   "name": "python",
   "nbconvert_exporter": "python",
   "pygments_lexer": "ipython3",
   "version": "3.6.1"
  }
 },
 "nbformat": 4,
 "nbformat_minor": 2
}
